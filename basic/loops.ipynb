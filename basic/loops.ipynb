{
 "cells": [
  {
   "cell_type": "code",
   "execution_count": 1,
   "metadata": {},
   "outputs": [
    {
     "name": "stdout",
     "output_type": "stream",
     "text": [
      "0\n",
      "1\n",
      "2\n",
      "3\n",
      "6\n",
      "7\n"
     ]
    }
   ],
   "source": [
    "x=[0,1,2,3,6,7]\n",
    "for i in x:\n",
    "    print(i)"
   ]
  },
  {
   "cell_type": "code",
   "execution_count": 2,
   "metadata": {},
   "outputs": [
    {
     "name": "stdout",
     "output_type": "stream",
     "text": [
      "We gotred\n",
      "We gotbrown\n",
      "We gotgreen\n",
      "We gotblack\n"
     ]
    }
   ],
   "source": [
    "colors=['red','brown','green','black']\n",
    "for val in colors:\n",
    "    print(f'We got{val}')"
   ]
  },
  {
   "cell_type": "code",
   "execution_count": 1,
   "metadata": {},
   "outputs": [
    {
     "name": "stdout",
     "output_type": "stream",
     "text": [
      "1\n",
      "2\n",
      "3\n",
      "4\n",
      "5\n",
      "6\n",
      "7\n",
      "8\n",
      "9\n",
      "10\n",
      "11\n",
      "12\n",
      "13\n",
      "14\n",
      "15\n",
      "16\n",
      "17\n",
      "18\n",
      "19\n",
      "20\n",
      "21\n",
      "22\n",
      "23\n",
      "24\n",
      "25\n",
      "26\n",
      "27\n",
      "28\n",
      "29\n",
      "30\n"
     ]
    }
   ],
   "source": [
    "x=[1,2,3,4,5,6,7,8,9,10,11,12,13,14,15,16,17,18,19,20,21,22,23,24,25,26,27,28,29,30]\n",
    "for i in x:\n",
    "    print(i)"
   ]
  },
  {
   "cell_type": "code",
   "execution_count": 2,
   "metadata": {},
   "outputs": [
    {
     "name": "stdout",
     "output_type": "stream",
     "text": [
      "1\n",
      "2\n",
      "3\n",
      "4\n",
      "5\n",
      "6\n",
      "7\n",
      "8\n",
      "9\n",
      "10\n",
      "11\n",
      "12\n",
      "13\n",
      "14\n",
      "15\n",
      "16\n",
      "17\n",
      "18\n",
      "19\n",
      "20\n",
      "21\n",
      "22\n",
      "23\n",
      "24\n",
      "25\n",
      "26\n",
      "27\n",
      "28\n",
      "29\n",
      "30\n"
     ]
    }
   ],
   "source": [
    "for i in range(1,31):\n",
    "    print(i)"
   ]
  },
  {
   "cell_type": "code",
   "execution_count": 6,
   "metadata": {},
   "outputs": [
    {
     "name": "stdout",
     "output_type": "stream",
     "text": [
      "1image.png 2image.png 3image.png 4image.png 5image.png 6image.png 7image.png 8image.png 9image.png 10image.png 11image.png 12image.png 13image.png 14image.png 15image.png 16image.png 17image.png 18image.png 19image.png "
     ]
    }
   ],
   "source": [
    "for i in range(1,20):\n",
    "    print(i,end=\"image.png \")"
   ]
  },
  {
   "cell_type": "code",
   "execution_count": 4,
   "metadata": {},
   "outputs": [
    {
     "name": "stdout",
     "output_type": "stream",
     "text": [
      "10 9 8 7 6 5 4 3 2 1 "
     ]
    }
   ],
   "source": [
    "for i in range(10,0,-1):\n",
    "    print(i,end=\" \")"
   ]
  },
  {
   "cell_type": "code",
   "execution_count": 5,
   "metadata": {},
   "outputs": [
    {
     "name": "stdout",
     "output_type": "stream",
     "text": [
      "potato🥔\n",
      "tomato🍅\n",
      "onion🧅\n",
      "cabbage\n"
     ]
    }
   ],
   "source": [
    "veg=['potato🥔','tomato🍅','onion🧅','cabbage']\n",
    "for item in veg:\n",
    "    print(item)"
   ]
  },
  {
   "cell_type": "code",
   "execution_count": 6,
   "metadata": {},
   "outputs": [
    {
     "name": "stdout",
     "output_type": "stream",
     "text": [
      "0 potato🥔\n",
      "1 tomato🍅\n",
      "2 onion🧅\n",
      "3 cabbage\n"
     ]
    }
   ],
   "source": [
    "for  index,value in enumerate(veg):\n",
    "    print(index, value)"
   ]
  },
  {
   "cell_type": "code",
   "execution_count": 7,
   "metadata": {},
   "outputs": [],
   "source": [
    "veg=['potato🥔','tomato🍅','onion🧅','cabbage']\n",
    "price=[35,40,80,90]"
   ]
  },
  {
   "cell_type": "code",
   "execution_count": 9,
   "metadata": {},
   "outputs": [
    {
     "name": "stdout",
     "output_type": "stream",
     "text": [
      "potato🥔-----💲35\n",
      "tomato🍅-----💲40\n",
      "onion🧅-----💲80\n",
      "cabbage-----💲90\n"
     ]
    }
   ],
   "source": [
    "for i in range(len(veg)):\n",
    "    print(f'{veg[i]}-----💲{price[i]}')"
   ]
  },
  {
   "cell_type": "code",
   "execution_count": 10,
   "metadata": {},
   "outputs": [
    {
     "name": "stdout",
     "output_type": "stream",
     "text": [
      "potato🥔------💲35\n",
      "tomato🍅------💲40\n",
      "onion🧅------💲80\n",
      "cabbage------💲90\n"
     ]
    }
   ],
   "source": [
    "for v,p in zip(veg,price):\n",
    "    print(f'{v}------💲{p}')"
   ]
  },
  {
   "cell_type": "markdown",
   "metadata": {},
   "source": [
    "#WAP to print the following lists using zip\n",
    "-list contains movies title\n",
    "-list contains movie rating\n",
    "-list contain movie year \n",
    "-list contains movie director"
   ]
  },
  {
   "cell_type": "code",
   "execution_count": 16,
   "metadata": {},
   "outputs": [
    {
     "name": "stdout",
     "output_type": "stream",
     "text": [
      "Naruto-----rating9.0-----year2001----Kishi Moto\n",
      "House of the dragon-----rating8.6-----year2022----G.R Martin\n",
      "Game of thrones-----rating9.5-----year2012----G.R Martin\n",
      "Harry Potter-----rating9.0-----year2000----J.K Rowling\n"
     ]
    }
   ],
   "source": [
    "title=['Naruto','House of the dragon','Game of thrones','Harry Potter']\n",
    "rating=['9.0','8.6','9.5','9.0']\n",
    "year=['2001','2022','2012','2000']\n",
    "director=['Kishi Moto','G.R Martin','G.R Martin','J.K Rowling']\n",
    "for t,r,y,d in zip(title,rating,year,director):\n",
    "    print(f'{t}-----rating{r}-----year{y}----{d}')"
   ]
  },
  {
   "cell_type": "markdown",
   "metadata": {},
   "source": [
    "Break and Continue"
   ]
  },
  {
   "cell_type": "code",
   "execution_count": 17,
   "metadata": {},
   "outputs": [
    {
     "name": "stdout",
     "output_type": "stream",
     "text": [
      "1\n",
      "2\n",
      "3\n",
      "4\n"
     ]
    }
   ],
   "source": [
    "x=[1,2,3,4,0,0,5]\n",
    "for i in x:\n",
    "    if i==0:\n",
    "        break\n",
    "    print(i)"
   ]
  },
  {
   "cell_type": "code",
   "execution_count": 20,
   "metadata": {},
   "outputs": [
    {
     "name": "stdout",
     "output_type": "stream",
     "text": [
      "0 1 2 3 4 5 6 7 8 9 \n",
      "0 1 2 3 4 5 6 7 8 9 \n",
      "0 1 2 3 4 5 6 7 8 9 \n",
      "0 1 2 3 4 5 6 7 8 9 \n",
      "0 1 2 3 4 5 6 7 8 9 \n",
      "0 1 2 3 4 5 6 7 8 9 \n",
      "0 1 2 3 4 5 6 7 8 9 \n",
      "0 1 2 3 4 5 6 7 8 9 \n",
      "0 1 2 3 4 5 6 7 8 9 \n",
      "0 1 2 3 4 5 6 7 8 9 \n"
     ]
    }
   ],
   "source": [
    "for i in range(10):\n",
    "    for i in range(10):\n",
    "        print(i,end=\" \")\n",
    "    print()"
   ]
  },
  {
   "cell_type": "code",
   "execution_count": 21,
   "metadata": {},
   "outputs": [
    {
     "name": "stdout",
     "output_type": "stream",
     "text": [
      "1\n",
      "2\n",
      "3\n",
      "4\n",
      "5\n"
     ]
    }
   ],
   "source": [
    "x=[1,2,3,4,0,0,5]\n",
    "for i in x:\n",
    "    if i==0:\n",
    "        continue\n",
    "    print(i)"
   ]
  },
  {
   "cell_type": "code",
   "execution_count": 31,
   "metadata": {},
   "outputs": [
    {
     "name": "stdout",
     "output_type": "stream",
     "text": [
      "prime\n"
     ]
    }
   ],
   "source": [
    "num=1231\n",
    "for i in range(2,num):\n",
    "    if num % i==0:\n",
    "        print('not prime')\n",
    "        break\n",
    "else: #else block will execute only if the loop is not brokrn\n",
    "    print('prime')"
   ]
  },
  {
   "cell_type": "code",
   "execution_count": 37,
   "metadata": {},
   "outputs": [
    {
     "name": "stdout",
     "output_type": "stream",
     "text": [
      "2 3 5 7 11 13 17 19 23 29 31 37 41 43 47 53 59 61 67 71 73 79 83 89 97 "
     ]
    }
   ],
   "source": [
    "for num in range(1,100):\n",
    "    if num == 1:\n",
    "        continue\n",
    "    for i in range(2,num):\n",
    "        if num % i == 0:\n",
    "            break\n",
    "    else:\n",
    "        print(num,end=' ')"
   ]
  },
  {
   "cell_type": "markdown",
   "metadata": {},
   "source": [
    "#While loop"
   ]
  },
  {
   "cell_type": "code",
   "execution_count": 33,
   "metadata": {},
   "outputs": [
    {
     "name": "stdout",
     "output_type": "stream",
     "text": [
      "10\n",
      "8\n",
      "6\n",
      "4\n",
      "2\n"
     ]
    }
   ],
   "source": [
    "x=10\n",
    "while x>0:\n",
    "    print(x)\n",
    "    x-=2"
   ]
  },
  {
   "cell_type": "code",
   "execution_count": 35,
   "metadata": {},
   "outputs": [
    {
     "name": "stdout",
     "output_type": "stream",
     "text": [
      "Total is 20\n",
      "Total is 110\n",
      "Total is 199\n",
      "Total is 253\n"
     ]
    }
   ],
   "source": [
    "total = 0\n",
    "while True:\n",
    "    num= int(input(\"Enter the number: \"))\n",
    "    if num == 0:\n",
    "        break\n",
    "    total += num\n",
    "    print(f'Total is {total}')"
   ]
  },
  {
   "cell_type": "code",
   "execution_count": 38,
   "metadata": {},
   "outputs": [
    {
     "name": "stdout",
     "output_type": "stream",
     "text": [
      "These are your books\n",
      "['One Piece', 'Subtle art of not giving fuck']\n"
     ]
    }
   ],
   "source": [
    "books = [] # empty list\n",
    "while True:\n",
    "    name = input('Enter the book name: ')\n",
    "    if name:\n",
    "        books.append(name) # add the item to list\n",
    "    else:\n",
    "        break\n",
    "print(\"These are your books\")\n",
    "print(books)\n"
   ]
  },
  {
   "cell_type": "markdown",
   "metadata": {},
   "source": [
    "# WAP to PRINT fabonacci series\n"
   ]
  },
  {
   "cell_type": "markdown",
   "metadata": {},
   "source": []
  }
 ],
 "metadata": {
  "kernelspec": {
   "display_name": "Python 3.10.6 ('py310')",
   "language": "python",
   "name": "python3"
  },
  "language_info": {
   "codemirror_mode": {
    "name": "ipython",
    "version": 3
   },
   "file_extension": ".py",
   "mimetype": "text/x-python",
   "name": "python",
   "nbconvert_exporter": "python",
   "pygments_lexer": "ipython3",
   "version": "3.10.6"
  },
  "orig_nbformat": 4,
  "vscode": {
   "interpreter": {
    "hash": "10d3a85676efa62cdf96aadd2b6c3b97ec4b552525d87e99326a0b57a4e5a406"
   }
  }
 },
 "nbformat": 4,
 "nbformat_minor": 2
}
