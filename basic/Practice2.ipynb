{
 "cells": [
  {
   "cell_type": "code",
   "execution_count": 2,
   "metadata": {},
   "outputs": [
    {
     "name": "stdout",
     "output_type": "stream",
     "text": [
      "Syed Fateh Abbas Rizvi\n"
     ]
    }
   ],
   "source": [
    "str=\"Syed Fateh Abbas Rizvi\"\n",
    "print(str)"
   ]
  },
  {
   "cell_type": "code",
   "execution_count": 3,
   "metadata": {},
   "outputs": [
    {
     "name": "stdout",
     "output_type": "stream",
     "text": [
      "22\n"
     ]
    }
   ],
   "source": [
    "print(len(str))"
   ]
  },
  {
   "cell_type": "code",
   "execution_count": 17,
   "metadata": {},
   "outputs": [
    {
     "name": "stdout",
     "output_type": "stream",
     "text": [
      "great\n",
      "is\n"
     ]
    }
   ],
   "source": [
    "tr=\"Python is great\"\n",
    "print(tr[-5:])\n",
    "print(tr[7:9])"
   ]
  },
  {
   "cell_type": "code",
   "execution_count": 20,
   "metadata": {},
   "outputs": [
    {
     "name": "stdout",
     "output_type": "stream",
     "text": [
      "Python \n",
      " Is \n",
      " Everywhere\n"
     ]
    }
   ],
   "source": [
    "t=\"Python \\n Is \\n Everywhere\"\n",
    "print(t)"
   ]
  },
  {
   "cell_type": "code",
   "execution_count": 27,
   "metadata": {},
   "outputs": [
    {
     "name": "stdout",
     "output_type": "stream",
     "text": [
      "!dlroW olleH\n"
     ]
    }
   ],
   "source": [
    "t=\"Hello World!\"\n",
    "print(t[::-1])"
   ]
  },
  {
   "cell_type": "code",
   "execution_count": 31,
   "metadata": {},
   "outputs": [
    {
     "name": "stdout",
     "output_type": "stream",
     "text": [
      "HOW IS IT GOING\n",
      "how is it going\n"
     ]
    }
   ],
   "source": [
    "T=\"How Is It Going\"\n",
    "print(T.upper())\n",
    "print(T.lower())"
   ]
  },
  {
   "cell_type": "code",
   "execution_count": 36,
   "metadata": {},
   "outputs": [
    {
     "name": "stdout",
     "output_type": "stream",
     "text": [
      "Pyton is easy to learn\n"
     ]
    }
   ],
   "source": [
    "words=['Pyton','is','easy','to','learn']\n",
    "print(\" \".join(words))"
   ]
  },
  {
   "cell_type": "code",
   "execution_count": 37,
   "metadata": {},
   "outputs": [
    {
     "name": "stdout",
     "output_type": "stream",
     "text": [
      "The God Is Great \n",
      "Use Print to print\n"
     ]
    }
   ],
   "source": [
    "print('''The God Is Great \n",
    "Use Print to print''')"
   ]
  },
  {
   "cell_type": "code",
   "execution_count": 40,
   "metadata": {},
   "outputs": [
    {
     "name": "stdout",
     "output_type": "stream",
     "text": [
      "to move to newline '\\n' is used\n"
     ]
    }
   ],
   "source": [
    "print(\"to move to newline '\\\\n' is used\")"
   ]
  },
  {
   "cell_type": "code",
   "execution_count": 44,
   "metadata": {},
   "outputs": [
    {
     "name": "stdout",
     "output_type": "stream",
     "text": [
      "the variable is 12\n"
     ]
    }
   ],
   "source": [
    "t=\"God is great\"\n",
    "print(\"the variable is\",len(t) )"
   ]
  },
  {
   "cell_type": "code",
   "execution_count": 47,
   "metadata": {},
   "outputs": [
    {
     "name": "stdout",
     "output_type": "stream",
     "text": [
      "python is great\n"
     ]
    }
   ],
   "source": [
    "s1='python'\n",
    "s2='is'\n",
    "s3='great'\n",
    "print(s1+\" \"+s2+\" \"+ s3)"
   ]
  },
  {
   "cell_type": "code",
   "execution_count": 48,
   "metadata": {},
   "outputs": [
    {
     "name": "stdout",
     "output_type": "stream",
     "text": [
      "####################\n"
     ]
    }
   ],
   "source": [
    "a=\"#\"\n",
    "print(a*20)"
   ]
  },
  {
   "cell_type": "code",
   "execution_count": 49,
   "metadata": {},
   "outputs": [
    {
     "name": "stdout",
     "output_type": "stream",
     "text": [
      "1. \n",
      " 2. \n",
      " 3. \n",
      " 4. \n",
      " 5. \n",
      " 6. \n",
      " 7. \n",
      " 8. \n",
      " 9. \n"
     ]
    }
   ],
   "source": [
    "print(\"1. \\n 2. \\n 3. \\n 4. \\n 5. \\n 6. \\n 7. \\n 8. \\n 9. \")"
   ]
  },
  {
   "cell_type": "code",
   "execution_count": 56,
   "metadata": {},
   "outputs": [
    {
     "name": "stdout",
     "output_type": "stream",
     "text": [
      "god\n",
      "is\n",
      "great\n"
     ]
    }
   ],
   "source": [
    "tu=input(\"Enter the String: \")\n",
    "print(*tu.split(\" \"),sep='\\n')"
   ]
  },
  {
   "cell_type": "code",
   "execution_count": 57,
   "metadata": {},
   "outputs": [
    {
     "name": "stdout",
     "output_type": "stream",
     "text": [
      "True\n"
     ]
    }
   ],
   "source": [
    "j=input(\"Enter the string: \")\n",
    "print(j.endswith('?'))"
   ]
  },
  {
   "cell_type": "code",
   "execution_count": 58,
   "metadata": {},
   "outputs": [
    {
     "name": "stdout",
     "output_type": "stream",
     "text": [
      "4\n"
     ]
    }
   ],
   "source": [
    "j=input(\"Enter the string: \")\n",
    "print(j.count('e'))"
   ]
  },
  {
   "cell_type": "code",
   "execution_count": 59,
   "metadata": {},
   "outputs": [
    {
     "name": "stdout",
     "output_type": "stream",
     "text": [
      "False\n"
     ]
    }
   ],
   "source": [
    "k=input(\"Enter the sentence: \")\n",
    "print(k.isnumeric())"
   ]
  },
  {
   "cell_type": "code",
   "execution_count": 61,
   "metadata": {},
   "outputs": [
    {
     "name": "stdout",
     "output_type": "stream",
     "text": [
      "this is not a good place to spleep\n"
     ]
    }
   ],
   "source": [
    "k='   this is not a good place to spleep   '\n",
    "print(k.strip(\" \"))"
   ]
  },
  {
   "cell_type": "code",
   "execution_count": 64,
   "metadata": {},
   "outputs": [],
   "source": [
    "l=input(\"Enter the String: \")\n",
    "if l.isupper():\n",
    "    res = True\n",
    "    break\n",
    "print(\"found\")"
   ]
  },
  {
   "cell_type": "code",
   "execution_count": null,
   "metadata": {},
   "outputs": [],
   "source": []
  }
 ],
 "metadata": {
  "kernelspec": {
   "display_name": "Python 3.9.12 ('base')",
   "language": "python",
   "name": "python3"
  },
  "language_info": {
   "codemirror_mode": {
    "name": "ipython",
    "version": 3
   },
   "file_extension": ".py",
   "mimetype": "text/x-python",
   "name": "python",
   "nbconvert_exporter": "python",
   "pygments_lexer": "ipython3",
   "version": "3.9.12"
  },
  "orig_nbformat": 4,
  "vscode": {
   "interpreter": {
    "hash": "96057ac52fb4be58b3e9499ec02eebca2c057203da76cbde051e8b43c3a326aa"
   }
  }
 },
 "nbformat": 4,
 "nbformat_minor": 2
}
