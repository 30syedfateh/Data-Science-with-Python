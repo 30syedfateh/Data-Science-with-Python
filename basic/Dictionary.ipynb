{
 "cells": [
  {
   "cell_type": "markdown",
   "metadata": {},
   "source": [
    "# updating an emtry in the dictionary"
   ]
  },
  {
   "cell_type": "code",
   "execution_count": null,
   "metadata": {},
   "outputs": [],
   "source": [
    "emp_dict['designation']='Asst A'"
   ]
  },
  {
   "cell_type": "code",
   "execution_count": 1,
   "metadata": {},
   "outputs": [
    {
     "ename": "NameError",
     "evalue": "name 'emp_dict' is not defined",
     "output_type": "error",
     "traceback": [
      "\u001b[1;31m---------------------------------------------------------------------------\u001b[0m",
      "\u001b[1;31mNameError\u001b[0m                                 Traceback (most recent call last)",
      "\u001b[1;32mc:\\Users\\abbas\\Dropbox\\PC\\Documents\\GitHub\\Fateh\\Dictionary.ipynb Cell 3\u001b[0m in \u001b[0;36m<cell line: 2>\u001b[1;34m()\u001b[0m\n\u001b[0;32m      <a href='vscode-notebook-cell:/c%3A/Users/abbas/Dropbox/PC/Documents/GitHub/Fateh/Dictionary.ipynb#W3sZmlsZQ%3D%3D?line=0'>1</a>\u001b[0m \u001b[39m# updating data\u001b[39;00m\n\u001b[1;32m----> <a href='vscode-notebook-cell:/c%3A/Users/abbas/Dropbox/PC/Documents/GitHub/Fateh/Dictionary.ipynb#W3sZmlsZQ%3D%3D?line=1'>2</a>\u001b[0m emp_dict[\u001b[39m'\u001b[39m\u001b[39mdesignation\u001b[39m\u001b[39m'\u001b[39m]\u001b[39m=\u001b[39m \u001b[39m'\u001b[39m\u001b[39mSeection Manager\u001b[39m\u001b[39m'\u001b[39m\n\u001b[0;32m      <a href='vscode-notebook-cell:/c%3A/Users/abbas/Dropbox/PC/Documents/GitHub/Fateh/Dictionary.ipynb#W3sZmlsZQ%3D%3D?line=2'>3</a>\u001b[0m \u001b[39m#print(emp_dict)\u001b[39;00m\n\u001b[0;32m      <a href='vscode-notebook-cell:/c%3A/Users/abbas/Dropbox/PC/Documents/GitHub/Fateh/Dictionary.ipynb#W3sZmlsZQ%3D%3D?line=3'>4</a>\u001b[0m emp_dict[\u001b[39m'\u001b[39m\u001b[39msalary\u001b[39m\u001b[39m'\u001b[39m]\u001b[39m=\u001b[39m\u001b[39m30000\u001b[39m\n",
      "\u001b[1;31mNameError\u001b[0m: name 'emp_dict' is not defined"
     ]
    }
   ],
   "source": [
    "# updating data\n",
    "emp_dict['designation']= 'Seection Manager'\n",
    "#print(emp_dict)\n",
    "emp_dict['salary']=30000\n",
    "print(emp_designation)\n"
   ]
  },
  {
   "cell_type": "code",
   "execution_count": 2,
   "metadata": {},
   "outputs": [
    {
     "ename": "NameError",
     "evalue": "name 'emp_dict' is not defined",
     "output_type": "error",
     "traceback": [
      "\u001b[1;31m---------------------------------------------------------------------------\u001b[0m",
      "\u001b[1;31mNameError\u001b[0m                                 Traceback (most recent call last)",
      "\u001b[1;32mc:\\Users\\abbas\\Dropbox\\PC\\Documents\\GitHub\\Fateh\\Dictionary.ipynb Cell 4\u001b[0m in \u001b[0;36m<cell line: 1>\u001b[1;34m()\u001b[0m\n\u001b[1;32m----> <a href='vscode-notebook-cell:/c%3A/Users/abbas/Dropbox/PC/Documents/GitHub/Fateh/Dictionary.ipynb#W4sZmlsZQ%3D%3D?line=0'>1</a>\u001b[0m \u001b[39mif\u001b[39;00m \u001b[39m'\u001b[39m\u001b[39mis_executive\u001b[39m\u001b[39m'\u001b[39m \u001b[39min\u001b[39;00m emp_dict:\n\u001b[0;32m      <a href='vscode-notebook-cell:/c%3A/Users/abbas/Dropbox/PC/Documents/GitHub/Fateh/Dictionary.ipynb#W4sZmlsZQ%3D%3D?line=1'>2</a>\u001b[0m     emp_dict\u001b[39m.\u001b[39mpop(\u001b[39m'\u001b[39m\u001b[39mis_executive\u001b[39m\u001b[39m'\u001b[39m)\n",
      "\u001b[1;31mNameError\u001b[0m: name 'emp_dict' is not defined"
     ]
    }
   ],
   "source": [
    "if 'is_executive' in emp_dict:\n",
    "    emp_dict.pop('is_executive')# removes an entry"
   ]
  },
  {
   "cell_type": "code",
   "execution_count": 3,
   "metadata": {},
   "outputs": [
    {
     "ename": "NameError",
     "evalue": "name 'emp_dict' is not defined",
     "output_type": "error",
     "traceback": [
      "\u001b[1;31m---------------------------------------------------------------------------\u001b[0m",
      "\u001b[1;31mNameError\u001b[0m                                 Traceback (most recent call last)",
      "\u001b[1;32mc:\\Users\\abbas\\Dropbox\\PC\\Documents\\GitHub\\Fateh\\Dictionary.ipynb Cell 5\u001b[0m in \u001b[0;36m<cell line: 1>\u001b[1;34m()\u001b[0m\n\u001b[1;32m----> <a href='vscode-notebook-cell:/c%3A/Users/abbas/Dropbox/PC/Documents/GitHub/Fateh/Dictionary.ipynb#W5sZmlsZQ%3D%3D?line=0'>1</a>\u001b[0m emp_dict\n",
      "\u001b[1;31mNameError\u001b[0m: name 'emp_dict' is not defined"
     ]
    }
   ],
   "source": [
    "emp_dict"
   ]
  },
  {
   "cell_type": "code",
   "execution_count": 7,
   "metadata": {},
   "outputs": [],
   "source": [
    "reports = {\n",
    "    '001':{'name':'vijay',\n",
    "    'subject':{'English':70, 'Maths': 60,'Science':85}\n",
    "},\n",
    "'003': { 'name': 'raj', 'subjects':{'English':60,'Maths':50,'Science':45},}\n",
    "}\n"
   ]
  },
  {
   "cell_type": "code",
   "execution_count": 8,
   "metadata": {},
   "outputs": [],
   "source": [
    "reports = {\n",
    "    '001':{'name':'vijay',\n",
    "    'subject':{'English':80, 'Maths': 50,'Science':75}\n",
    "},\n",
    "'003': { 'name': 'raj', 'subjects':{'English':90,'Maths':80,'Science':55},}\n",
    "}\n"
   ]
  },
  {
   "cell_type": "code",
   "execution_count": 19,
   "metadata": {},
   "outputs": [
    {
     "ename": "AttributeError",
     "evalue": "'dict' object has no attribute 'item'",
     "output_type": "error",
     "traceback": [
      "\u001b[1;31m---------------------------------------------------------------------------\u001b[0m",
      "\u001b[1;31mAttributeError\u001b[0m                            Traceback (most recent call last)",
      "\u001b[1;32mc:\\Users\\abbas\\Dropbox\\PC\\Documents\\GitHub\\Fateh\\Dictionary.ipynb Cell 8\u001b[0m in \u001b[0;36m<cell line: 1>\u001b[1;34m()\u001b[0m\n\u001b[1;32m----> <a href='vscode-notebook-cell:/c%3A/Users/abbas/Dropbox/PC/Documents/GitHub/Fateh/Dictionary.ipynb#X11sZmlsZQ%3D%3D?line=0'>1</a>\u001b[0m \u001b[39mfor\u001b[39;00m roll,data \u001b[39min\u001b[39;00m reports\u001b[39m.\u001b[39;49mitem():\n\u001b[0;32m      <a href='vscode-notebook-cell:/c%3A/Users/abbas/Dropbox/PC/Documents/GitHub/Fateh/Dictionary.ipynb#X11sZmlsZQ%3D%3D?line=1'>2</a>\u001b[0m     \u001b[39mprint\u001b[39m(\u001b[39m\"\u001b[39m\u001b[39mRoll No.\u001b[39m\u001b[39m\"\u001b[39m,roll)\n\u001b[0;32m      <a href='vscode-notebook-cell:/c%3A/Users/abbas/Dropbox/PC/Documents/GitHub/Fateh/Dictionary.ipynb#X11sZmlsZQ%3D%3D?line=2'>3</a>\u001b[0m     \u001b[39mfor\u001b[39;00m key,val \u001b[39min\u001b[39;00m data\u001b[39m.\u001b[39mitems():\n",
      "\u001b[1;31mAttributeError\u001b[0m: 'dict' object has no attribute 'item'"
     ]
    }
   ],
   "source": [
    "for roll,data in reports.item():\n",
    "    print(\"Roll No.\",roll)\n",
    "    for key,val in data.items():\n",
    "        if isinstance(val, dict):\n",
    "            print(key)\n",
    "            for sub, marks in val.items():\n",
    "                print(sub, marks)\n",
    "        else:\n",
    "            print(key, val)\n",
    "    print('--'*10)"
   ]
  },
  {
   "cell_type": "code",
   "execution_count": 21,
   "metadata": {},
   "outputs": [
    {
     "ename": "AttributeError",
     "evalue": "'dict' object has no attribute 'item'",
     "output_type": "error",
     "traceback": [
      "\u001b[1;31m---------------------------------------------------------------------------\u001b[0m",
      "\u001b[1;31mAttributeError\u001b[0m                            Traceback (most recent call last)",
      "\u001b[1;32mc:\\Users\\abbas\\Dropbox\\PC\\Documents\\GitHub\\Fateh\\Dictionary.ipynb Cell 9\u001b[0m in \u001b[0;36m<cell line: 1>\u001b[1;34m()\u001b[0m\n\u001b[1;32m----> <a href='vscode-notebook-cell:/c%3A/Users/abbas/Dropbox/PC/Documents/GitHub/Fateh/Dictionary.ipynb#X12sZmlsZQ%3D%3D?line=0'>1</a>\u001b[0m \u001b[39mfor\u001b[39;00m roll,data \u001b[39min\u001b[39;00m reports\u001b[39m.\u001b[39;49mitem():\n\u001b[0;32m      <a href='vscode-notebook-cell:/c%3A/Users/abbas/Dropbox/PC/Documents/GitHub/Fateh/Dictionary.ipynb#X12sZmlsZQ%3D%3D?line=1'>2</a>\u001b[0m     \u001b[39mprint\u001b[39m(\u001b[39m\"\u001b[39m\u001b[39mRoll No.\u001b[39m\u001b[39m\"\u001b[39m,roll)\n\u001b[0;32m      <a href='vscode-notebook-cell:/c%3A/Users/abbas/Dropbox/PC/Documents/GitHub/Fateh/Dictionary.ipynb#X12sZmlsZQ%3D%3D?line=2'>3</a>\u001b[0m     \u001b[39mfor\u001b[39;00m key,val \u001b[39min\u001b[39;00m data\u001b[39m.\u001b[39mitems():\n",
      "\u001b[1;31mAttributeError\u001b[0m: 'dict' object has no attribute 'item'"
     ]
    }
   ],
   "source": [
    "for roll,data in reports.item():\n",
    "    print(\"Roll No.\",roll)\n",
    "    for key,val in data.items():\n",
    "        if isinstance(val, dict):\n",
    "            print(key)\n",
    "            total=0# before loop set total marks to 0\n",
    "            for sub, marks in val.items():\n",
    "                print(sub, marks)\n",
    "                total+=marks# add marks to total\n",
    "            print(f'Total:{total}/300')# display\n",
    "            print(f'%age: {total/300*100:.2f}%') # display\n",
    "        else:\n",
    "            print(key, val)\n",
    "    print('--'*10)"
   ]
  },
  {
   "cell_type": "markdown",
   "metadata": {},
   "source": [
    "File Handling\n",
    "-opening a file\n",
    "-reading a file\n",
    "-writing a file\n",
    "-appending a file"
   ]
  },
  {
   "cell_type": "code",
   "execution_count": 2,
   "metadata": {},
   "outputs": [
    {
     "name": "stdout",
     "output_type": "stream",
     "text": [
      "print (\"Hello World\")\n"
     ]
    }
   ],
   "source": [
    "f= open('hello.py')\n",
    "print(f.read())"
   ]
  },
  {
   "cell_type": "code",
   "execution_count": 3,
   "metadata": {},
   "outputs": [
    {
     "name": "stdout",
     "output_type": "stream",
     "text": [
      "21characters\n"
     ]
    }
   ],
   "source": [
    "f = open('hello.py')\n",
    "content=f.read()\n",
    "print(f'{len(content)}characters')"
   ]
  },
  {
   "cell_type": "code",
   "execution_count": 4,
   "metadata": {},
   "outputs": [
    {
     "name": "stdout",
     "output_type": "stream",
     "text": [
      "{len(content)}characters\n"
     ]
    }
   ],
   "source": [
    "f = open('hello.py')\n",
    "content=f.read()\n",
    "print(r'{len(content)}characters')"
   ]
  },
  {
   "cell_type": "code",
   "execution_count": 6,
   "metadata": {},
   "outputs": [],
   "source": [
    "data = 'hi everyone, this is a sample file'\n",
    "with open('mydata.txt','w') as file:\n",
    "    file.write(data)"
   ]
  },
  {
   "cell_type": "code",
   "execution_count": 7,
   "metadata": {},
   "outputs": [],
   "source": [
    "data = 'n\\this is the new data the is going to be written'\n",
    "with open('mydata.txt','a') as file:\n",
    "    file.write(data)"
   ]
  },
  {
   "cell_type": "code",
   "execution_count": 8,
   "metadata": {},
   "outputs": [
    {
     "name": "stdout",
     "output_type": "stream",
     "text": [
      "File bio.txt saved\n"
     ]
    }
   ],
   "source": [
    "file= 'bio.txt'\n",
    "content=''\n",
    "while True:\n",
    "    line = input('Enter a line(or q to quit):')\n",
    "    if line == 'q':\n",
    "        break\n",
    "    content += line +'\\n'\n",
    "with open(file,'w') as f:\n",
    "    f.write(content)\n",
    "    print(f'File {file} saved')"
   ]
  },
  {
   "cell_type": "code",
   "execution_count": null,
   "metadata": {},
   "outputs": [],
   "source": [
    "print(input)"
   ]
  },
  {
   "cell_type": "code",
   "execution_count": 1,
   "metadata": {},
   "outputs": [
    {
     "name": "stdout",
     "output_type": "stream",
     "text": [
      "78%2 == 0\n",
      "78 is not a prime number\n"
     ]
    }
   ],
   "source": [
    "num= int(input('enter the number'))\n",
    "if num>1:\n",
    "    for i in range(2,num):\n",
    "        if num % i == 0:\n",
    "            print(f'{num}%{i} == {num % i}')\n",
    "            print(num,'is not a prime number')\n",
    "            break\n",
    "    else:\n",
    "        print(num,'is a prime number')"
   ]
  },
  {
   "cell_type": "code",
   "execution_count": null,
   "metadata": {},
   "outputs": [],
   "source": []
  }
 ],
 "metadata": {
  "kernelspec": {
   "display_name": "Python 3.9.12 ('base')",
   "language": "python",
   "name": "python3"
  },
  "language_info": {
   "codemirror_mode": {
    "name": "ipython",
    "version": 3
   },
   "file_extension": ".py",
   "mimetype": "text/x-python",
   "name": "python",
   "nbconvert_exporter": "python",
   "pygments_lexer": "ipython3",
   "version": "3.9.12"
  },
  "orig_nbformat": 4,
  "vscode": {
   "interpreter": {
    "hash": "96057ac52fb4be58b3e9499ec02eebca2c057203da76cbde051e8b43c3a326aa"
   }
  }
 },
 "nbformat": 4,
 "nbformat_minor": 2
}
