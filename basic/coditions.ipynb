{
 "cells": [
  {
   "cell_type": "markdown",
   "metadata": {},
   "source": [
    "#Conditions\n"
   ]
  },
  {
   "cell_type": "code",
   "execution_count": 1,
   "metadata": {},
   "outputs": [
    {
     "name": "stdout",
     "output_type": "stream",
     "text": [
      "fruit not found!\n"
     ]
    }
   ],
   "source": [
    "fruit=input(\"what fruit do you like?\")\n",
    "if fruit=='apple':\n",
    "    print('An apple a day keeps doctor away!')\n",
    "elif fruit=='mango':\n",
    "    print('mango is the king of fruits!')\n",
    "elif fruit=='Orange':\n",
    "    print('Orange is the good source of vitamin c!')\n",
    "else:\n",
    "    print('fruit not found!')"
   ]
  },
  {
   "cell_type": "code",
   "execution_count": 1,
   "metadata": {},
   "outputs": [
    {
     "name": "stdout",
     "output_type": "stream",
     "text": [
      "Wrong password\n"
     ]
    }
   ],
   "source": [
    "username=input(\"Enter your username:\")\n",
    "password=input(\"Enter your password:\")\n",
    "if username=='Sam':\n",
    "    if password=='123':\n",
    "      print(\"Welcome Sam\")\n",
    "    else:\n",
    "        print(\"Wrong password\")\n",
    "else:\n",
    "    print(\"Wrong username\")"
   ]
  },
  {
   "cell_type": "code",
   "execution_count": 1,
   "metadata": {},
   "outputs": [
    {
     "name": "stdout",
     "output_type": "stream",
     "text": [
      "your hra is: 2400.0\n",
      "your da is: 9600.0\n"
     ]
    }
   ],
   "source": [
    "basicsalary=float(input(\"Enter your salary:\"))\n",
    "if basicsalary<10000:\n",
    "    hra=0.1*basicsalary\n",
    "    da=0.9*basicsalary\n",
    "elif basicsalary>10000:\n",
    "    hra=0.2*basicsalary\n",
    "    da=0.8*basicsalary\n",
    "else:\n",
    "    hra=0.25*basicsalary\n",
    "    da=0.75*basicsalary\n",
    "print(\"your hra is:\",hra)\n",
    "print(\"your da is:\",da)"
   ]
  },
  {
   "cell_type": "code",
   "execution_count": 1,
   "metadata": {},
   "outputs": [
    {
     "name": "stdout",
     "output_type": "stream",
     "text": [
      "vanila=150.0\n"
     ]
    }
   ],
   "source": [
    "icecream=input(\"enter the icecream name->\")\n",
    "match(icecream):\n",
    "    case \"chocolate\":\n",
    "        print(\"chocolate=200.0\")\n",
    "    case \"vanila\":\n",
    "        print(\"vanila=150.0\")\n",
    "    case \"strawberry\":\n",
    "        print(\"strawberry=140.0\")\n",
    "    case _:\n",
    "        print(\"not available\")"
   ]
  },
  {
   "cell_type": "code",
   "execution_count": null,
   "metadata": {},
   "outputs": [],
   "source": []
  }
 ],
 "metadata": {
  "kernelspec": {
   "display_name": "Python 3.10.6 ('py310')",
   "language": "python",
   "name": "python3"
  },
  "language_info": {
   "codemirror_mode": {
    "name": "ipython",
    "version": 3
   },
   "file_extension": ".py",
   "mimetype": "text/x-python",
   "name": "python",
   "nbconvert_exporter": "python",
   "pygments_lexer": "ipython3",
   "version": "3.10.6"
  },
  "orig_nbformat": 4,
  "vscode": {
   "interpreter": {
    "hash": "10d3a85676efa62cdf96aadd2b6c3b97ec4b552525d87e99326a0b57a4e5a406"
   }
  }
 },
 "nbformat": 4,
 "nbformat_minor": 2
}
