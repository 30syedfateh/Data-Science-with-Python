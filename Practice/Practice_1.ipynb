{
 "cells": [
  {
   "cell_type": "code",
   "execution_count": 4,
   "metadata": {},
   "outputs": [
    {
     "name": "stdout",
     "output_type": "stream",
     "text": [
      "[24, 35, 9, 56, 12]\n"
     ]
    }
   ],
   "source": [
    "#Find the lenght of the list and simply swap the first element with (n-1)th element\n",
    "def swapList(newList):\n",
    "    size = len(newList)\n",
    "\n",
    "    # Swaapping\n",
    "    temp = newList[0]\n",
    "    newList[0] = newList[size - 1]\n",
    "    newList[size - 1] = temp\n",
    "\n",
    "    return newList\n",
    "newList = [12,35,9,56,24]\n",
    "print(swapList(newList))\n",
    "\n"
   ]
  },
  {
   "cell_type": "code",
   "execution_count": 5,
   "metadata": {},
   "outputs": [
    {
     "name": "stdout",
     "output_type": "stream",
     "text": [
      "[45, 35, 67, 889, 90, 12]\n"
     ]
    }
   ],
   "source": [
    "# The last element of the list can be referred as list[-1].Thererfore,we can simply swap list[0] with list[-1].\n",
    "def swapList(newList):\n",
    "\n",
    "    newList[0],newList[-1] = newList[-1],newList[0]\n",
    "    return newList\n",
    "# Driver code\n",
    "newList = [12,35,67,889,90,45]\n",
    "print(swapList(newList)) "
   ]
  },
  {
   "cell_type": "code",
   "execution_count": 4,
   "metadata": {},
   "outputs": [
    {
     "name": "stdout",
     "output_type": "stream",
     "text": [
      "[19, 65, 23, 90]\n"
     ]
    }
   ],
   "source": [
    "# A simple swapusing comma assignment Since the position of the element are known, we can simmply swap the position of the elements.\n",
    "\n",
    "def swapPositions(list, pos1, pos2):\n",
    "    list[pos1], list[pos2] = list[pos2], list[pos1]\n",
    "    return list\n",
    "# Driver function\n",
    "list = [23, 65, 19, 90]\n",
    "pos1, pos2 = 1,3\n",
    "print(swapPositions(list,pos1-1,pos2-1))"
   ]
  },
  {
   "cell_type": "code",
   "execution_count": 5,
   "metadata": {},
   "outputs": [
    {
     "name": "stdout",
     "output_type": "stream",
     "text": [
      "[29, 65, 23, 90]\n"
     ]
    }
   ],
   "source": [
    "# using inbuilt list.pop()function Pop the element at pos1 and store it in a variable\n",
    "def swapPositons(list, pos1, pos2):\n",
    "\n",
    "    # poping both the elements from list\n",
    "    first_ele = list.pop(pos1)\n",
    "    second_ele = list.pop(pos2-1)\n",
    "\n",
    "    # inserting in each other position\n",
    "    list.insert(pos1, second_ele)\n",
    "    list.insert(pos2, first_ele)\n",
    "    return list\n",
    "# Driver function\n",
    "List = [23, 65, 29, 90]\n",
    "pos1, pos2 = 1,3\n",
    "print(swapPosition(List, pos1-1,pos2-1))\n"
   ]
  },
  {
   "cell_type": "code",
   "execution_count": 9,
   "metadata": {},
   "outputs": [
    {
     "name": "stdout",
     "output_type": "stream",
     "text": [
      "[19, 65, 23, 90]\n"
     ]
    }
   ],
   "source": [
    "def swapPositions(List,pos1,pos2):\n",
    "    get = list[pos1],list[pos2]\n",
    "    list[pos2],list[pos2]=get\n",
    "    return list\n",
    "# Driver Code\n",
    "List = [23,65,19,90]\n",
    "pos1, pos2 = 1, 3\n",
    "print(swapPositions(List,pos1-1,pos2-1))"
   ]
  },
  {
   "cell_type": "code",
   "execution_count": 12,
   "metadata": {},
   "outputs": [
    {
     "name": "stdout",
     "output_type": "stream",
     "text": [
      "[67, 45, 23, 89]\n"
     ]
    }
   ],
   "source": [
    "def swapPosition(List,pos1,pos2):\n",
    "    temp = List[pos1]\n",
    "    List[pos1]=List[pos2]\n",
    "    List[pos2]=temp\n",
    "    return List\n",
    "List = [23,45,67,89]\n",
    "print(swapPosition(List,pos1-1,pos2-1))"
   ]
  },
  {
   "cell_type": "code",
   "execution_count": null,
   "metadata": {},
   "outputs": [],
   "source": []
  }
 ],
 "metadata": {
  "kernelspec": {
   "display_name": "Python 3.9.12 ('base')",
   "language": "python",
   "name": "python3"
  },
  "language_info": {
   "codemirror_mode": {
    "name": "ipython",
    "version": 3
   },
   "file_extension": ".py",
   "mimetype": "text/x-python",
   "name": "python",
   "nbconvert_exporter": "python",
   "pygments_lexer": "ipython3",
   "version": "3.9.12"
  },
  "orig_nbformat": 4,
  "vscode": {
   "interpreter": {
    "hash": "96057ac52fb4be58b3e9499ec02eebca2c057203da76cbde051e8b43c3a326aa"
   }
  }
 },
 "nbformat": 4,
 "nbformat_minor": 2
}
