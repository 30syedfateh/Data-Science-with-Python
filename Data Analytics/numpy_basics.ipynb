{
 "cells": [
  {
   "cell_type": "code",
   "execution_count": 1,
   "metadata": {},
   "outputs": [],
   "source": [
    "import numpy as np"
   ]
  },
  {
   "cell_type": "code",
   "execution_count": 2,
   "metadata": {},
   "outputs": [
    {
     "name": "stdout",
     "output_type": "stream",
     "text": [
      "[1 2 3 4 5 6 7]\n"
     ]
    }
   ],
   "source": [
    "x = np.array([1,2,3,4,5,6,7])\n",
    "print(x)"
   ]
  },
  {
   "cell_type": "code",
   "execution_count": 3,
   "metadata": {},
   "outputs": [
    {
     "name": "stdout",
     "output_type": "stream",
     "text": [
      "[[2 3]\n",
      " [5 6]]\n"
     ]
    }
   ],
   "source": [
    "x2 = np.array([[2,3],[5,6]])\n",
    "print(x2)"
   ]
  },
  {
   "cell_type": "code",
   "execution_count": 5,
   "metadata": {},
   "outputs": [
    {
     "name": "stdout",
     "output_type": "stream",
     "text": [
      "(7,)\n",
      "(2, 2)\n",
      "2\n"
     ]
    }
   ],
   "source": [
    "print(x.shape)\n",
    "print(x2.shape)\n",
    "print(x2.ndim)"
   ]
  },
  {
   "cell_type": "code",
   "execution_count": 8,
   "metadata": {},
   "outputs": [
    {
     "name": "stdout",
     "output_type": "stream",
     "text": [
      "[-5.  -4.6 -4.2 -3.8 -3.4 -3.  -2.6 -2.2 -1.8 -1.4 -1.  -0.6 -0.2  0.2\n",
      "  0.6  1.   1.4  1.8  2.2  2.6  3.   3.4  3.8  4.2  4.6  5.   5.4  5.8]\n",
      "(28,)\n",
      "28\n"
     ]
    }
   ],
   "source": [
    "a = np.arange(-5,6,.4)\n",
    "print(a)\n",
    "print(a.shape)\n",
    "print(a.size)\n"
   ]
  },
  {
   "cell_type": "code",
   "execution_count": 9,
   "metadata": {},
   "outputs": [
    {
     "name": "stdout",
     "output_type": "stream",
     "text": [
      "[ 1.          1.18367347  1.36734694  1.55102041  1.73469388  1.91836735\n",
      "  2.10204082  2.28571429  2.46938776  2.65306122  2.83673469  3.02040816\n",
      "  3.20408163  3.3877551   3.57142857  3.75510204  3.93877551  4.12244898\n",
      "  4.30612245  4.48979592  4.67346939  4.85714286  5.04081633  5.2244898\n",
      "  5.40816327  5.59183673  5.7755102   5.95918367  6.14285714  6.32653061\n",
      "  6.51020408  6.69387755  6.87755102  7.06122449  7.24489796  7.42857143\n",
      "  7.6122449   7.79591837  7.97959184  8.16326531  8.34693878  8.53061224\n",
      "  8.71428571  8.89795918  9.08163265  9.26530612  9.44897959  9.63265306\n",
      "  9.81632653 10.        ]\n"
     ]
    }
   ],
   "source": [
    "b = np.linspace(1,10,50)\n",
    "print(b)"
   ]
  },
  {
   "cell_type": "code",
   "execution_count": 11,
   "metadata": {},
   "outputs": [
    {
     "name": "stdout",
     "output_type": "stream",
     "text": [
      "[[0.668039   0.33794467 0.77858626]\n",
      " [0.21229036 0.35589061 0.86983793]\n",
      " [0.46185219 0.65564118 0.78948164]]\n",
      "(3, 3)\n",
      "9\n"
     ]
    }
   ],
   "source": [
    "c  = np.random.random((3,3))\n",
    "print(c)\n",
    "print(c.shape)\n",
    "print(c.size)"
   ]
  },
  {
   "cell_type": "code",
   "execution_count": 12,
   "metadata": {},
   "outputs": [
    {
     "name": "stdout",
     "output_type": "stream",
     "text": [
      "[[-0.56337476  0.72337124 -0.34264111]\n",
      " [ 0.98397563  1.38122159  1.3254785 ]\n",
      " [ 0.27702231  1.94861432 -1.14461981]]\n",
      "(3, 3)\n",
      "9\n"
     ]
    }
   ],
   "source": [
    "d = np.random.randn(3,3)\n",
    "print(d)\n",
    "print(d.shape)\n",
    "print(d.size)"
   ]
  },
  {
   "cell_type": "code",
   "execution_count": 13,
   "metadata": {},
   "outputs": [
    {
     "name": "stdout",
     "output_type": "stream",
     "text": [
      "[[[3 2 4]\n",
      "  [3 8 8]\n",
      "  [4 9 4]]\n",
      "\n",
      " [[5 7 5]\n",
      "  [7 4 9]\n",
      "  [4 3 6]]\n",
      "\n",
      " [[4 6 7]\n",
      "  [2 8 8]\n",
      "  [3 5 8]]]\n",
      "(3, 3, 3)\n",
      "27\n"
     ]
    }
   ],
   "source": [
    "e = np.random.randint(1,10,(3,3,3))\n",
    "print(e)\n",
    "print(e.shape)\n",
    "print(e.size)"
   ]
  },
  {
   "cell_type": "code",
   "execution_count": 15,
   "metadata": {},
   "outputs": [
    {
     "name": "stdout",
     "output_type": "stream",
     "text": [
      "(90,)\n"
     ]
    }
   ],
   "source": [
    "f = np.linspace(1,100,90)\n",
    "print(f.shape)"
   ]
  },
  {
   "cell_type": "code",
   "execution_count": 16,
   "metadata": {},
   "outputs": [
    {
     "name": "stdout",
     "output_type": "stream",
     "text": [
      "[[  1.           2.11235955   3.2247191    4.33707865   5.4494382\n",
      "    6.56179775   7.6741573    8.78651685   9.8988764   11.01123596\n",
      "   12.12359551  13.23595506  14.34831461  15.46067416  16.57303371\n",
      "   17.68539326  18.79775281  19.91011236  21.02247191  22.13483146\n",
      "   23.24719101  24.35955056  25.47191011  26.58426966  27.69662921\n",
      "   28.80898876  29.92134831  31.03370787  32.14606742  33.25842697]\n",
      " [ 34.37078652  35.48314607  36.59550562  37.70786517  38.82022472\n",
      "   39.93258427  41.04494382  42.15730337  43.26966292  44.38202247\n",
      "   45.49438202  46.60674157  47.71910112  48.83146067  49.94382022\n",
      "   51.05617978  52.16853933  53.28089888  54.39325843  55.50561798\n",
      "   56.61797753  57.73033708  58.84269663  59.95505618  61.06741573\n",
      "   62.17977528  63.29213483  64.40449438  65.51685393  66.62921348]\n",
      " [ 67.74157303  68.85393258  69.96629213  71.07865169  72.19101124\n",
      "   73.30337079  74.41573034  75.52808989  76.64044944  77.75280899\n",
      "   78.86516854  79.97752809  81.08988764  82.20224719  83.31460674\n",
      "   84.42696629  85.53932584  86.65168539  87.76404494  88.87640449\n",
      "   89.98876404  91.1011236   92.21348315  93.3258427   94.43820225\n",
      "   95.5505618   96.66292135  97.7752809   98.88764045 100.        ]]\n"
     ]
    }
   ],
   "source": [
    "f2 = f.reshape(3,30)\n",
    "print(f2)"
   ]
  },
  {
   "cell_type": "code",
   "execution_count": 17,
   "metadata": {},
   "outputs": [
    {
     "name": "stdout",
     "output_type": "stream",
     "text": [
      "(15, 3, 2)\n",
      "[[[  1.           2.11235955]\n",
      "  [  3.2247191    4.33707865]\n",
      "  [  5.4494382    6.56179775]]\n",
      "\n",
      " [[  7.6741573    8.78651685]\n",
      "  [  9.8988764   11.01123596]\n",
      "  [ 12.12359551  13.23595506]]\n",
      "\n",
      " [[ 14.34831461  15.46067416]\n",
      "  [ 16.57303371  17.68539326]\n",
      "  [ 18.79775281  19.91011236]]\n",
      "\n",
      " [[ 21.02247191  22.13483146]\n",
      "  [ 23.24719101  24.35955056]\n",
      "  [ 25.47191011  26.58426966]]\n",
      "\n",
      " [[ 27.69662921  28.80898876]\n",
      "  [ 29.92134831  31.03370787]\n",
      "  [ 32.14606742  33.25842697]]\n",
      "\n",
      " [[ 34.37078652  35.48314607]\n",
      "  [ 36.59550562  37.70786517]\n",
      "  [ 38.82022472  39.93258427]]\n",
      "\n",
      " [[ 41.04494382  42.15730337]\n",
      "  [ 43.26966292  44.38202247]\n",
      "  [ 45.49438202  46.60674157]]\n",
      "\n",
      " [[ 47.71910112  48.83146067]\n",
      "  [ 49.94382022  51.05617978]\n",
      "  [ 52.16853933  53.28089888]]\n",
      "\n",
      " [[ 54.39325843  55.50561798]\n",
      "  [ 56.61797753  57.73033708]\n",
      "  [ 58.84269663  59.95505618]]\n",
      "\n",
      " [[ 61.06741573  62.17977528]\n",
      "  [ 63.29213483  64.40449438]\n",
      "  [ 65.51685393  66.62921348]]\n",
      "\n",
      " [[ 67.74157303  68.85393258]\n",
      "  [ 69.96629213  71.07865169]\n",
      "  [ 72.19101124  73.30337079]]\n",
      "\n",
      " [[ 74.41573034  75.52808989]\n",
      "  [ 76.64044944  77.75280899]\n",
      "  [ 78.86516854  79.97752809]]\n",
      "\n",
      " [[ 81.08988764  82.20224719]\n",
      "  [ 83.31460674  84.42696629]\n",
      "  [ 85.53932584  86.65168539]]\n",
      "\n",
      " [[ 87.76404494  88.87640449]\n",
      "  [ 89.98876404  91.1011236 ]\n",
      "  [ 92.21348315  93.3258427 ]]\n",
      "\n",
      " [[ 94.43820225  95.5505618 ]\n",
      "  [ 96.66292135  97.7752809 ]\n",
      "  [ 98.88764045 100.        ]]]\n"
     ]
    }
   ],
   "source": [
    "f3 = f.reshape(15,3,2)\n",
    "print(f3.shape)\n",
    "print(f3)"
   ]
  },
  {
   "cell_type": "code",
   "execution_count": 18,
   "metadata": {},
   "outputs": [
    {
     "name": "stdout",
     "output_type": "stream",
     "text": [
      "[[4 6 6]\n",
      " [8 3 7]\n",
      " [8 2 4]]\n",
      "\n",
      "[[7 7 8]\n",
      " [1 4 3]\n",
      " [3 7 9]]\n"
     ]
    }
   ],
   "source": [
    "x = np.random.randint(1,10,(3,3))\n",
    "y =  np.random.randint(1,10,(3,3))\n",
    "print(x)\n",
    "print()\n",
    "print(y)"
   ]
  },
  {
   "cell_type": "code",
   "execution_count": 19,
   "metadata": {},
   "outputs": [
    {
     "data": {
      "text/plain": [
       "array([[11, 13, 14],\n",
       "       [ 9,  7, 10],\n",
       "       [11,  9, 13]])"
      ]
     },
     "execution_count": 19,
     "metadata": {},
     "output_type": "execute_result"
    }
   ],
   "source": [
    "x + y # element wise addition"
   ]
  },
  {
   "cell_type": "code",
   "execution_count": 20,
   "metadata": {},
   "outputs": [
    {
     "name": "stdout",
     "output_type": "stream",
     "text": [
      "[[-3 -1 -2]\n",
      " [ 7 -1  4]\n",
      " [ 5 -5 -5]]\n",
      "[[28 42 48]\n",
      " [ 8 12 21]\n",
      " [24 14 36]]\n",
      "[[0.57142857 0.85714286 0.75      ]\n",
      " [8.         0.75       2.33333333]\n",
      " [2.66666667 0.28571429 0.44444444]]\n",
      "[[0 0 0]\n",
      " [8 0 2]\n",
      " [2 0 0]]\n",
      "[[4 6 6]\n",
      " [0 3 1]\n",
      " [2 2 4]]\n",
      "[[  16384  279936 1679616]\n",
      " [      8      81     343]\n",
      " [    512     128  262144]]\n"
     ]
    }
   ],
   "source": [
    "print(x - y)\n",
    "print(x * y)\n",
    "print(x / y)\n",
    "print(x // y) # element wise floor division\n",
    "print(x % y)# element wise modulus\n",
    "print(x ** y) # element wise explanation"
   ]
  },
  {
   "cell_type": "code",
   "execution_count": 21,
   "metadata": {},
   "outputs": [
    {
     "name": "stdout",
     "output_type": "stream",
     "text": [
      "[[ 52  94 104]\n",
      " [ 80 117 136]\n",
      " [ 70  92 106]]\n",
      "[[ 52  94 104]\n",
      " [ 80 117 136]\n",
      " [ 70  92 106]]\n",
      "[[  6  10 -14]\n",
      " [-19 -17  29]\n",
      " [-10 -60  50]]\n",
      "[[ 52  94 104]\n",
      " [ 80 117 136]\n",
      " [ 70  92 106]]\n"
     ]
    }
   ],
   "source": [
    "print(np.dot(x,y)) # dot product\n",
    "print(x.dot(y)) # same dot product\n",
    "print(np.cross(x,y)) # cross product\n",
    "print(np.matmul(x,y)) # matrix multiplication"
   ]
  },
  {
   "cell_type": "code",
   "execution_count": 22,
   "metadata": {},
   "outputs": [
    {
     "name": "stdout",
     "output_type": "stream",
     "text": [
      "48\n",
      "[20 11 17]\n",
      "[16 18 14]\n",
      "5.333333333333333\n",
      "[6.66666667 3.66666667 5.66666667]\n",
      "[5.33333333 6.         4.66666667]\n",
      "2.0548046676563256\n",
      "[1.88561808 1.69967317 1.24721913]\n",
      "[0.94280904 2.1602469  2.49443826]\n",
      "6.0\n",
      "[8. 3. 6.]\n",
      "[6. 7. 4.]\n"
     ]
    }
   ],
   "source": [
    "print(x.sum()) # sum of all element\n",
    "print(x.sum(axis = 0)) # sum of each column\n",
    "print(x.sum(axis = 1)) # sum of each row\n",
    "print(x.mean())# mean of all element\n",
    "print(x.mean(axis=0)) # mean of column\n",
    "print(x.mean(axis=1)) # mean of each row\n",
    "print(x.std()) # standard deviation of all element\n",
    "print(x.std(axis=0)) # standard deviation of column\n",
    "print(x.std(axis=1)) # standard deviation of row\n",
    "print(np.median(x)) # median of all element\n",
    "print(np.median(x,axis=0)) # median of each column\n",
    "print(np.median(x,axis=1)) # median of each row"
   ]
  },
  {
   "cell_type": "code",
   "execution_count": 23,
   "metadata": {},
   "outputs": [],
   "source": [
    "import matplotlib.pyplot as plt"
   ]
  },
  {
   "cell_type": "code",
   "execution_count": 28,
   "metadata": {},
   "outputs": [
    {
     "data": {
      "image/png": "[encoded data removed]",
      "text/plain": [
       "<Figure size 640x480 with 1 Axes>"
      ]
     },
     "metadata": {},
     "output_type": "display_data"
    }
   ],
   "source": [
    "t = np.linspace(0, 4*np.pi, 100)\n",
    "y = np.sin(t)\n",
    "x = np.cos(t)\n",
    "plt.plot(t,y)\n",
    "plt.plot(t,x,'ro')\n",
    "plt.show()"
   ]
  },
  {
   "cell_type": "code",
   "execution_count": 31,
   "metadata": {},
   "outputs": [
    {
     "data": {
      "text/plain": [
       "<BarContainer object of 12 artists>"
      ]
     },
     "execution_count": 31,
     "metadata": {},
     "output_type": "execute_result"
    },
    {
     "data": {
      "image/png": "[encoded data removed]",
      "text/plain": [
       "<Figure size 640x480 with 1 Axes>"
      ]
     },
     "metadata": {},
     "output_type": "display_data"
    }
   ],
   "source": [
    "rainfall = [20,30,40,60,70,80,90,100,110,120,130,50]\n",
    "months = ['Jan', 'Feb', 'Mar', 'Apr', 'May', 'Jun', 'Jul', 'Aug', 'Sept', 'Oct', 'Nov', 'Dec']\n",
    "plt.bar(months,rainfall)"
   ]
  },
  {
   "cell_type": "code",
   "execution_count": null,
   "metadata": {},
   "outputs": [],
   "source": []
  }
 ],
 "metadata": {
  "kernelspec": {
   "display_name": "Python 3.9.12 ('base')",
   "language": "python",
   "name": "python3"
  },
  "language_info": {
   "codemirror_mode": {
    "name": "ipython",
    "version": 3
   },
   "file_extension": ".py",
   "mimetype": "text/x-python",
   "name": "python",
   "nbconvert_exporter": "python",
   "pygments_lexer": "ipython3",
   "version": "3.9.12"
  },
  "orig_nbformat": 4,
  "vscode": {
   "interpreter": {
    "hash": "96057ac52fb4be58b3e9499ec02eebca2c057203da76cbde051e8b43c3a326aa"
   }
  }
 },
 "nbformat": 4,
 "nbformat_minor": 2
}
